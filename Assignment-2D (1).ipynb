{
  "metadata": {
    "language_info": {
      "codemirror_mode": {
        "name": "python",
        "version": 3
      },
      "file_extension": ".py",
      "mimetype": "text/x-python",
      "name": "python",
      "nbconvert_exporter": "python",
      "pygments_lexer": "ipython3",
      "version": "3.8"
    },
    "kernelspec": {
      "name": "python",
      "display_name": "Python (Pyodide)",
      "language": "python"
    }
  },
  "nbformat_minor": 4,
  "nbformat": 4,
  "cells": [
    {
      "cell_type": "code",
      "source": "import pandas as pd\nimport matplotlib.pyplot as plt\n\nfrom sklearn.preprocessing import MinMaxScaler\nfrom sklearn.linear_model import LinearRegression\nfrom sklearn.model_selection import train_test_split\n\n#2 Load the dataSet\nMg = pd.read_csv(r'Churn_Modelling.csv');\nMg.head();\n\n#3a Univariate Analysis - Graph Model\nMg['Tenure'].value_counts().sort_index().plot.line() \n\n#3b Bi - Variate Analysis - Plot model\nMg[Mg['Age'] < 100].sample(100).plot.scatter(x='Age', y='Tenure') \nMg.tail();\nMg.info();\n  \n\n#3 c. Multi-Varient \nax = Mg[[\"CustomerId\",\"Surname\",\"Tenure\"]].plot(figsize=(20,15)) \nax.legend(loc='center left', bbox_to_anchor=(1, 0.5));\nprint(\"MukeshG\")\n\n\n#4.descriptive statistics\nprint(Mg.mean()) \nprint(Mg.std()) \nprint(Mg.describe())\n\n\n#5.Handling with Missing Values\n\nprint(Mg.notnull()) \nbool_series = pd.isnull(Mg[\"CustomerId\"])\nMg[bool_series]\n\n\n#6.outliers and Replacing it\n\nfare_mean = Mg['CreditScore'].mean()\nfare_std = Mg['CreditScore'].std()\nlow= fare_mean -(3 * fare_std)\nhigh= fare_mean + (3 * fare_std)\nfare_outliers = Mg[(Mg['CreditScore'] < low) | (Mg['CreditScore'] > high)]\nfare_outliers.head()\n\nQ1 = Mg['CreditScore'].quantile(0.10)\nQ3 = Mg['CreditScore'].quantile(0.90)\nIQR = Q3 - Q1\ncredyy = 1.5\nlower_credyy = Q1 - (credyy*IQR)\nupper_credyy = Q3 + (credyy*IQR)\nindex=Mg['CreditScore'][(Mg['CreditScore']>upper_credyy)|(Mg['CreditScore']<lower_credyy)].index\ndf.drop(index,inplace=True)\n\n#8.a dependent\nX = Mg.iloc[:, :-1].values \nprint(X)\n#8. b Independent\ny = Mg.iloc[:, -1].values \nprint(y)\n\n#9.Scale independent CreditScore\nscaler = MinMaxScaler(feature_range=(400, 800))\nMg[[\"CreditScore\"]] = scaler.fit_transform(Mg[[\"CreditScore\"]]) \nprint(Mg)\n\n#10.Splited into train and test\nX_train, X_test, y_train, y_test = train_test_split(X, y, test_size=0.05, random_state=0) \nprint(X_train)\nprint(X_test)\nprint(y_train)\nprint(y_test)\nprint(\"Demon\")",
      "metadata": {
        "trusted": true
      },
      "execution_count": 11,
      "outputs": [
        {
          "name": "stdout",
          "text": "<class 'pandas.core.frame.DataFrame'>\nRangeIndex: 10000 entries, 0 to 9999\nData columns (total 14 columns):\n #   Column           Non-Null Count  Dtype  \n---  ------           --------------  -----  \n 0   RowNumber        10000 non-null  int64  \n 1   CustomerId       10000 non-null  int64  \n 2   Surname          10000 non-null  object \n 3   CreditScore      10000 non-null  int64  \n 4   Geography        10000 non-null  object \n 5   Gender           10000 non-null  object \n 6   Age              10000 non-null  int64  \n 7   Tenure           10000 non-null  int64  \n 8   Balance          10000 non-null  float64\n 9   NumOfProducts    10000 non-null  int64  \n 10  HasCrCard        10000 non-null  int64  \n 11  IsActiveMember   10000 non-null  int64  \n 12  EstimatedSalary  10000 non-null  float64\n 13  Exited           10000 non-null  int64  \ndtypes: float64(2), int64(9), object(3)\nmemory usage: 976.6+ KB\n",
          "output_type": "stream"
        },
        {
          "name": "stderr",
          "text": "/lib/python3.10/site-packages/pandas/plotting/_matplotlib/core.py:386: RuntimeWarning: More than 20 figures have been opened. Figures created through the pyplot interface (`matplotlib.pyplot.figure`) are retained until explicitly closed and may consume too much memory. (To control this warning, see the rcParam `figure.max_open_warning`).\n  fig = self.plt.figure(figsize=self.figsize)\n",
          "output_type": "stream"
        },
        {
          "name": "stdout",
          "text": "MukeshG\n",
          "output_type": "stream"
        },
        {
          "name": "stderr",
          "text": "<ipython-input-11-aa164fcf1199>:28: FutureWarning: Dropping of nuisance columns in DataFrame reductions (with 'numeric_only=None') is deprecated; in a future version this will raise TypeError.  Select only valid columns before calling the reduction.\n  print(Mg.mean())\n",
          "output_type": "stream"
        },
        {
          "name": "stdout",
          "text": "RowNumber          5.000500e+03\nCustomerId         1.569094e+07\nCreditScore        6.505288e+02\nAge                3.892180e+01\nTenure             5.012800e+00\nBalance            7.648589e+04\nNumOfProducts      1.530200e+00\nHasCrCard          7.055000e-01\nIsActiveMember     5.151000e-01\nEstimatedSalary    1.000902e+05\nExited             2.037000e-01\ndtype: float64\n",
          "output_type": "stream"
        },
        {
          "name": "stderr",
          "text": "<ipython-input-11-aa164fcf1199>:29: FutureWarning: Dropping of nuisance columns in DataFrame reductions (with 'numeric_only=None') is deprecated; in a future version this will raise TypeError.  Select only valid columns before calling the reduction.\n  print(Mg.std())\n",
          "output_type": "stream"
        },
        {
          "name": "stdout",
          "text": "RowNumber           2886.895680\nCustomerId         71936.186123\nCreditScore           96.653299\nAge                   10.487806\nTenure                 2.892174\nBalance            62397.405202\nNumOfProducts          0.581654\nHasCrCard              0.455840\nIsActiveMember         0.499797\nEstimatedSalary    57510.492818\nExited                 0.402769\ndtype: float64\n         RowNumber    CustomerId   CreditScore           Age        Tenure  \\\ncount  10000.00000  1.000000e+04  10000.000000  10000.000000  10000.000000   \nmean    5000.50000  1.569094e+07    650.528800     38.921800      5.012800   \nstd     2886.89568  7.193619e+04     96.653299     10.487806      2.892174   \nmin        1.00000  1.556570e+07    350.000000     18.000000      0.000000   \n25%     2500.75000  1.562853e+07    584.000000     32.000000      3.000000   \n50%     5000.50000  1.569074e+07    652.000000     37.000000      5.000000   \n75%     7500.25000  1.575323e+07    718.000000     44.000000      7.000000   \nmax    10000.00000  1.581569e+07    850.000000     92.000000     10.000000   \n\n             Balance  NumOfProducts    HasCrCard  IsActiveMember  \\\ncount   10000.000000   10000.000000  10000.00000    10000.000000   \nmean    76485.889288       1.530200      0.70550        0.515100   \nstd     62397.405202       0.581654      0.45584        0.499797   \nmin         0.000000       1.000000      0.00000        0.000000   \n25%         0.000000       1.000000      0.00000        0.000000   \n50%     97198.540000       1.000000      1.00000        1.000000   \n75%    127644.240000       2.000000      1.00000        1.000000   \nmax    250898.090000       4.000000      1.00000        1.000000   \n\n       EstimatedSalary        Exited  \ncount     10000.000000  10000.000000  \nmean     100090.239881      0.203700  \nstd       57510.492818      0.402769  \nmin          11.580000      0.000000  \n25%       51002.110000      0.000000  \n50%      100193.915000      0.000000  \n75%      149388.247500      0.000000  \nmax      199992.480000      1.000000  \n      RowNumber  CustomerId  Surname  CreditScore  Geography  Gender   Age  \\\n0          True        True     True         True       True    True  True   \n1          True        True     True         True       True    True  True   \n2          True        True     True         True       True    True  True   \n3          True        True     True         True       True    True  True   \n4          True        True     True         True       True    True  True   \n...         ...         ...      ...          ...        ...     ...   ...   \n9995       True        True     True         True       True    True  True   \n9996       True        True     True         True       True    True  True   \n9997       True        True     True         True       True    True  True   \n9998       True        True     True         True       True    True  True   \n9999       True        True     True         True       True    True  True   \n\n      Tenure  Balance  NumOfProducts  HasCrCard  IsActiveMember  \\\n0       True     True           True       True            True   \n1       True     True           True       True            True   \n2       True     True           True       True            True   \n3       True     True           True       True            True   \n4       True     True           True       True            True   \n...      ...      ...            ...        ...             ...   \n9995    True     True           True       True            True   \n9996    True     True           True       True            True   \n9997    True     True           True       True            True   \n9998    True     True           True       True            True   \n9999    True     True           True       True            True   \n\n      EstimatedSalary  Exited  \n0                True    True  \n1                True    True  \n2                True    True  \n3                True    True  \n4                True    True  \n...               ...     ...  \n9995             True    True  \n9996             True    True  \n9997             True    True  \n9998             True    True  \n9999             True    True  \n\n[10000 rows x 14 columns]\n",
          "output_type": "stream"
        },
        {
          "ename": "<class 'NameError'>",
          "evalue": "name 'df' is not defined",
          "traceback": [
            "\u001b[0;31m---------------------------------------------------------------------------\u001b[0m",
            "\u001b[0;31mNameError\u001b[0m                                 Traceback (most recent call last)",
            "Cell \u001b[0;32mIn [11], line 56\u001b[0m\n\u001b[1;32m     54\u001b[0m upper_credyy \u001b[38;5;241m=\u001b[39m Q3 \u001b[38;5;241m+\u001b[39m (credyy\u001b[38;5;241m*\u001b[39mIQR)\n\u001b[1;32m     55\u001b[0m index\u001b[38;5;241m=\u001b[39mMg[\u001b[38;5;124m'\u001b[39m\u001b[38;5;124mCreditScore\u001b[39m\u001b[38;5;124m'\u001b[39m][(Mg[\u001b[38;5;124m'\u001b[39m\u001b[38;5;124mCreditScore\u001b[39m\u001b[38;5;124m'\u001b[39m]\u001b[38;5;241m>\u001b[39mupper_credyy)\u001b[38;5;241m|\u001b[39m(Mg[\u001b[38;5;124m'\u001b[39m\u001b[38;5;124mCreditScore\u001b[39m\u001b[38;5;124m'\u001b[39m]\u001b[38;5;241m<\u001b[39mlower_credyy)]\u001b[38;5;241m.\u001b[39mindex\n\u001b[0;32m---> 56\u001b[0m df\u001b[38;5;241m.\u001b[39mdrop(index,inplace\u001b[38;5;241m=\u001b[39m\u001b[38;5;28;01mTrue\u001b[39;00m)\n\u001b[1;32m     58\u001b[0m \u001b[38;5;66;03m#8.a dependent\u001b[39;00m\n\u001b[1;32m     59\u001b[0m X \u001b[38;5;241m=\u001b[39m Mg\u001b[38;5;241m.\u001b[39miloc[:, :\u001b[38;5;241m-\u001b[39m\u001b[38;5;241m1\u001b[39m]\u001b[38;5;241m.\u001b[39mvalues \n",
            "\u001b[0;31mNameError\u001b[0m: name 'df' is not defined"
          ],
          "output_type": "error"
        }
      ]
    },
    {
      "cell_type": "code",
      "source": "",
      "metadata": {},
      "execution_count": null,
      "outputs": []
    }
  ]
}